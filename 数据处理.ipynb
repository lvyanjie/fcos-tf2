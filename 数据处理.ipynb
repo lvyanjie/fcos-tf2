{
 "cells": [
  {
   "cell_type": "code",
   "execution_count": 1,
   "metadata": {},
   "outputs": [],
   "source": [
    "import glob\n",
    "import pandas as pd\n",
    "import os\n",
    "try:\n",
    "    import xml.etree.cElementTree as ET\n",
    "except ImportError:\n",
    "    import xml.etree.ElementTree as ET\n",
    "\n",
    "image_path = 'E:/datasets/Apparent_disease/object_detection/JPEGImages/'\n",
    "annotations_path = 'E:/datasets/Apparent_disease/object_detection/Annotations/'\n",
    "all_anno_files = glob.glob(annotations_path + '*.xml')\n",
    "\n",
    "all_obj_data = []\n",
    "for file in all_anno_files:\n",
    "    file = file.replace('\\\\','/')\n",
    "    file_name = file.split('/')[-1].replace('.xml','')\n",
    "    image_file = image_path + file_name + '.jpg'\n",
    "    if not os.path.exists(image_file):\n",
    "        print(image_file)\n",
    "    tree = ET.parse(file)\n",
    "    root = tree.getroot()\n",
    "\n",
    "    # 获取检测目标，一个检测目标对应一个目标实例\n",
    "    for child in root:\n",
    "        if child.tag == 'size':\n",
    "            img_width = int(child[0].text)\n",
    "            img_height = int(child[1].text)\n",
    "\n",
    "        if child.tag == 'object':\n",
    "            label = child[0].text\n",
    "            xmin, ymin, xmax, ymax = int(child[4][0].text),\\\n",
    "                                     int(child[4][1].text),\\\n",
    "                                     int(child[4][2].text),\\\n",
    "                                     int(child[4][3].text)\n",
    "            all_obj_data.append([image_file, img_width, img_height, xmin, ymin, xmax, ymax, label])"
   ]
  },
  {
   "cell_type": "code",
   "execution_count": 3,
   "metadata": {},
   "outputs": [],
   "source": [
    "df_detection = pd.DataFrame(data=all_obj_data, columns=['image_path', 'image_width', 'image_height', 'xmin', 'ymin', 'xmax', 'ymax', 'label'])\n",
    "df_detection.to_csv('./data/all_data.csv', index=False)"
   ]
  }
 ],
 "metadata": {
  "kernelspec": {
   "display_name": "tf2.x",
   "language": "python",
   "name": "tf2.x"
  },
  "language_info": {
   "codemirror_mode": {
    "name": "ipython",
    "version": 3
   },
   "file_extension": ".py",
   "mimetype": "text/x-python",
   "name": "python",
   "nbconvert_exporter": "python",
   "pygments_lexer": "ipython3",
   "version": "3.7.7"
  }
 },
 "nbformat": 4,
 "nbformat_minor": 4
}
